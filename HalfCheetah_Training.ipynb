{
 "cells": [
  {
   "cell_type": "code",
   "execution_count": 4,
   "id": "e7b8ceb4",
   "metadata": {},
   "outputs": [
    {
     "name": "stderr",
     "output_type": "stream",
     "text": [
      "/Users/I569423/GitHub/RL_Course_DHBW/.venv/lib/python3.12/site-packages/gymnasium/envs/registration.py:512: DeprecationWarning: \u001b[33mWARN: The environment HalfCheetah-v4 is out of date. You should consider upgrading to version `v5`.\u001b[0m\n",
      "  logger.deprecation(\n"
     ]
    },
    {
     "name": "stdout",
     "output_type": "stream",
     "text": [
      "Environment created. Initializing HalfCheetah-v4 visualization...\n",
      "\n",
      "KeyboardInterrupt detected. Stopping visualization.\n",
      "Environment closed.\n"
     ]
    }
   ],
   "source": [
    "import gymnasium as gym\n",
    "import time\n",
    "\n",
    "# Create the HalfCheetah-v4 environment\n",
    "# render_mode=\"human\" will open a pop-up window to display the simulation\n",
    "env = gym.make(\"HalfCheetah-v4\", render_mode=\"human\")\n",
    "\n",
    "print(\"Environment created. Initializing HalfCheetah-v4 visualization...\")\n",
    "\n",
    "# Reset the environment to its initial state\n",
    "# This action also triggers the initial render of the environment\n",
    "observation, info = env.reset()\n",
    "try:\n",
    "    while True:\n",
    "        env.render()\n",
    "        time.sleep(0.1)\n",
    "except KeyboardInterrupt:\n",
    "    print(\"\\nKeyboardInterrupt detected. Stopping visualization.\") \n",
    "except Exception as e:\n",
    "    print(f\"Visualization window likely closed or an error occurred: {e}\")\n",
    "finally:\n",
    "    # Close the environment when done\n",
    "    env.close()\n",
    "    print(\"Environment closed.\")\n"
   ]
  }
 ],
 "metadata": {
  "kernelspec": {
   "display_name": ".venv",
   "language": "python",
   "name": "python3"
  },
  "language_info": {
   "codemirror_mode": {
    "name": "ipython",
    "version": 3
   },
   "file_extension": ".py",
   "mimetype": "text/x-python",
   "name": "python",
   "nbconvert_exporter": "python",
   "pygments_lexer": "ipython3",
   "version": "3.12.3"
  }
 },
 "nbformat": 4,
 "nbformat_minor": 5
}
